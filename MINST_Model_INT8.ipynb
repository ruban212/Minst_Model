{
  "nbformat": 4,
  "nbformat_minor": 0,
  "metadata": {
    "colab": {
      "provenance": []
    },
    "kernelspec": {
      "name": "python3",
      "display_name": "Python 3"
    },
    "language_info": {
      "name": "python"
    }
  },
  "cells": [
    {
      "cell_type": "code",
      "execution_count": 86,
      "metadata": {
        "id": "B3GhaPgQL_V5"
      },
      "outputs": [],
      "source": [
        "import torch\n",
        "import torch.quantization\n",
        "import torch.nn as nn\n",
        "import torch.optim as optim\n",
        "import torch.nn.functional as F\n",
        "from torchvision import datasets, transforms\n",
        "from torch.utils.data import DataLoader\n",
        "from torchsummary import summary\n",
        "from convolution import CustomConv2D\n",
        "from torch.quantization.quantize_fx import prepare_fx, convert_fx\n",
        "from torch.ao.quantization import get_default_qconfig_mapping\n",
        "from torch.ao.quantization import default_observer, default_per_channel_weight_observer\n",
        "from torch.ao.quantization import QConfigMapping"
      ]
    },
    {
      "cell_type": "code",
      "source": [
        "class MNISTModel(nn.Module):\n",
        "    def __init__(self, is_training=True):\n",
        "        super(MNISTModel, self).__init__()\n",
        "\n",
        "        if train_model:\n",
        "            self.conv1 = nn.Conv2d(1, 32, kernel_size=3, stride=1, padding=1)\n",
        "            self.conv2 = nn.Conv2d(32, 64, kernel_size=3, stride=1, padding=1)\n",
        "        else:\n",
        "            self.conv1 = CustomConv2D(1, 32, kernel_size=3, stride=1, padding=1)\n",
        "            self.conv2 = CustomConv2D(32, 64, kernel_size=3, stride=1, padding=1)\n",
        "\n",
        "        self.pool = nn.MaxPool2d(kernel_size=2, stride=2)\n",
        "        self.fc1 = nn.Linear(64 * 7 * 7, 128)\n",
        "        self.fc2 = nn.Linear(128, 10)\n",
        "\n",
        "    def forward(self, x):\n",
        "        x = self.conv1(x)\n",
        "        x = self.pool(x)\n",
        "        x = self.conv2(x)\n",
        "        x = self.pool(x)\n",
        "        x = x.reshape(x.size(0), -1)\n",
        "        x = F.relu(self.fc1(x))\n",
        "        x = self.fc2(x)\n",
        "        return x"
      ],
      "metadata": {
        "id": "vKq13bJJMedy"
      },
      "execution_count": 87,
      "outputs": []
    },
    {
      "cell_type": "code",
      "source": [
        "device = torch.device(\"cuda\" if torch.cuda.is_available() else \"cpu\")"
      ],
      "metadata": {
        "id": "canDGFhlN4iI"
      },
      "execution_count": 88,
      "outputs": []
    },
    {
      "cell_type": "code",
      "source": [
        "transform = transforms.Compose([\n",
        "    transforms.ToTensor(),\n",
        "    transforms.Normalize((0.5,), (0.5,))\n",
        "])"
      ],
      "metadata": {
        "id": "41tiTZQNNnyr"
      },
      "execution_count": 89,
      "outputs": []
    },
    {
      "cell_type": "code",
      "source": [
        "train_dataset = datasets.MNIST(root='./data', train=True, download=True, transform=transform)\n",
        "test_dataset = datasets.MNIST(root='./data', train=False, download=True, transform=transform)"
      ],
      "metadata": {
        "id": "NTw6JP73Nn0n"
      },
      "execution_count": 90,
      "outputs": []
    },
    {
      "cell_type": "code",
      "source": [
        "train_loader = DataLoader(train_dataset, batch_size=256, shuffle=True)\n",
        "test_loader = DataLoader(test_dataset, batch_size=256, shuffle=False)"
      ],
      "metadata": {
        "id": "YP7L-8ddNn27"
      },
      "execution_count": 91,
      "outputs": []
    },
    {
      "cell_type": "code",
      "source": [
        "model = MNISTModel().to(device)\n",
        "optimizer = optim.Adam(model.parameters(), lr=0.001)\n",
        "criterion = nn.CrossEntropyLoss()\n",
        "\n",
        "print(model)\n",
        "summary(model, (1, 28, 28))"
      ],
      "metadata": {
        "colab": {
          "base_uri": "https://localhost:8080/"
        },
        "id": "ITKRjffCNn5q",
        "outputId": "4c6a0dcc-0174-4460-8893-bc5646245ce0"
      },
      "execution_count": 92,
      "outputs": [
        {
          "output_type": "stream",
          "name": "stdout",
          "text": [
            "MNISTModel(\n",
            "  (conv1): Conv2d(1, 32, kernel_size=(3, 3), stride=(1, 1), padding=(1, 1))\n",
            "  (conv2): Conv2d(32, 64, kernel_size=(3, 3), stride=(1, 1), padding=(1, 1))\n",
            "  (pool): MaxPool2d(kernel_size=2, stride=2, padding=0, dilation=1, ceil_mode=False)\n",
            "  (fc1): Linear(in_features=3136, out_features=128, bias=True)\n",
            "  (fc2): Linear(in_features=128, out_features=10, bias=True)\n",
            ")\n",
            "----------------------------------------------------------------\n",
            "        Layer (type)               Output Shape         Param #\n",
            "================================================================\n",
            "            Conv2d-1           [-1, 32, 28, 28]             320\n",
            "         MaxPool2d-2           [-1, 32, 14, 14]               0\n",
            "            Conv2d-3           [-1, 64, 14, 14]          18,496\n",
            "         MaxPool2d-4             [-1, 64, 7, 7]               0\n",
            "            Linear-5                  [-1, 128]         401,536\n",
            "            Linear-6                   [-1, 10]           1,290\n",
            "================================================================\n",
            "Total params: 421,642\n",
            "Trainable params: 421,642\n",
            "Non-trainable params: 0\n",
            "----------------------------------------------------------------\n",
            "Input size (MB): 0.00\n",
            "Forward/backward pass size (MB): 0.36\n",
            "Params size (MB): 1.61\n",
            "Estimated Total Size (MB): 1.97\n",
            "----------------------------------------------------------------\n"
          ]
        }
      ]
    },
    {
      "cell_type": "code",
      "source": [
        "def train_model(model, device, train_loader, optimizer, criterion, epoch):\n",
        "    model.train()\n",
        "    total_loss = 0\n",
        "    correct = 0\n",
        "    for batch_idx, (data, target) in enumerate(train_loader):\n",
        "        data, target = data.to(device), target.to(device)\n",
        "        optimizer.zero_grad()\n",
        "        output = model(data)\n",
        "        loss = criterion(output, target)\n",
        "        loss.backward()\n",
        "        optimizer.step()\n",
        "\n",
        "        total_loss += loss.item()\n",
        "        pred = output.argmax(dim=1, keepdim=True)\n",
        "        correct += pred.eq(target.view_as(pred)).sum().item()\n",
        "\n",
        "    print(f\"Train Epoch [{epoch}], Loss: {total_loss / len(train_loader)}\")"
      ],
      "metadata": {
        "id": "oyraTTy4OIqZ"
      },
      "execution_count": 93,
      "outputs": []
    },
    {
      "cell_type": "code",
      "source": [
        "def test_model(model, device, test_loader, criterion):\n",
        "    model.eval()\n",
        "    test_loss = 0\n",
        "    correct = 0\n",
        "\n",
        "    with torch.no_grad():\n",
        "        for data, target in test_loader:\n",
        "            data, target = data.to(device), target.to(device)\n",
        "            output = model(data)\n",
        "            test_loss += criterion(output, target).item()\n",
        "            pred = output.argmax(dim=1, keepdim=True)\n",
        "            correct += pred.eq(target.view_as(pred)).sum().item()\n",
        "\n",
        "    avg_loss = test_loss / len(test_loader)\n",
        "    accuracy = 100. * correct / len(test_loader.dataset)\n",
        "\n",
        "    print(f\"Test set: Average loss: {avg_loss:.4f}, Accuracy: {correct}/{len(test_loader.dataset)} ({accuracy:.2f}%)\")\n",
        "\n",
        "    return accuracy"
      ],
      "metadata": {
        "id": "FAb3BrAWOIt1"
      },
      "execution_count": 94,
      "outputs": []
    },
    {
      "cell_type": "code",
      "source": [
        "overall_test_accuracy = 0.0\n",
        "for epoch in range(1, 6):\n",
        "    train_model(model, device, train_loader, optimizer, criterion, epoch)\n",
        "    test_accuracy = test_model(model, device, test_loader, criterion)\n",
        "    overall_test_accuracy += test_accuracy\n",
        "\n",
        "overall_test_accuracy /= 5\n",
        "print(f\"Overall Test Accuracy: {overall_test_accuracy:.2f}%\")"
      ],
      "metadata": {
        "colab": {
          "base_uri": "https://localhost:8080/"
        },
        "id": "gQwtvSy9OIzF",
        "outputId": "a5074aa5-0721-469b-e65f-b8c84d0f72b5"
      },
      "execution_count": 95,
      "outputs": [
        {
          "output_type": "stream",
          "name": "stdout",
          "text": [
            "Train Epoch [1], Loss: 0.26161004961171047\n",
            "Test set: Average loss: 0.0632, Accuracy: 9795/10000 (97.95%)\n",
            "Train Epoch [2], Loss: 0.06376786234372474\n",
            "Test set: Average loss: 0.0407, Accuracy: 9863/10000 (98.63%)\n",
            "Train Epoch [3], Loss: 0.04206291857234975\n",
            "Test set: Average loss: 0.0387, Accuracy: 9867/10000 (98.67%)\n",
            "Train Epoch [4], Loss: 0.030932307998312914\n",
            "Test set: Average loss: 0.0441, Accuracy: 9858/10000 (98.58%)\n",
            "Train Epoch [5], Loss: 0.025139690039956822\n",
            "Test set: Average loss: 0.0307, Accuracy: 9894/10000 (98.94%)\n",
            "Overall Test Accuracy: 98.55%\n"
          ]
        }
      ]
    },
    {
      "cell_type": "code",
      "source": [
        "custom_qconfig_mapping = QConfigMapping().set_global(\n",
        "    torch.ao.quantization.QConfig(\n",
        "        activation=default_observer.with_args(quant_min=0, quant_max=255),\n",
        "        weight=default_per_channel_weight_observer.with_args(quant_min=-128, quant_max=127)\n",
        "    )\n",
        ")"
      ],
      "metadata": {
        "id": "jzEGFMZRmIKe"
      },
      "execution_count": 96,
      "outputs": []
    },
    {
      "cell_type": "code",
      "source": [
        "model_fp32 = MNISTModel().eval()\n",
        "qconfig_mapping = get_default_qconfig_mapping()"
      ],
      "metadata": {
        "id": "VVB3T8G6kOua"
      },
      "execution_count": 97,
      "outputs": []
    },
    {
      "cell_type": "code",
      "source": [
        "x = torch.randn((1, 1, 28, 28), dtype=torch.float)\n",
        "prepared_model = prepare_fx(model_fp32, custom_qconfig_mapping, example_inputs=x)"
      ],
      "metadata": {
        "id": "m-ueT5CelZCO"
      },
      "execution_count": 98,
      "outputs": []
    },
    {
      "cell_type": "code",
      "source": [
        "model.eval()\n",
        "with torch.no_grad():\n",
        "    for data, target in train_loader:\n",
        "        data = data.to(device)\n",
        "        prepared_model(data)"
      ],
      "metadata": {
        "id": "SzOdBHrsmmym"
      },
      "execution_count": 99,
      "outputs": []
    },
    {
      "cell_type": "code",
      "source": [
        "quantized_model = convert_fx(prepared_model)"
      ],
      "metadata": {
        "id": "rESSu_9tlZFH"
      },
      "execution_count": 100,
      "outputs": []
    },
    {
      "cell_type": "code",
      "source": [
        "test_accuracy = test_model(quantized_model, device, test_loader, criterion)\n",
        "print(f\"Quantized model test accuracy: {test_accuracy:.2f}%\")"
      ],
      "metadata": {
        "colab": {
          "base_uri": "https://localhost:8080/"
        },
        "id": "vpXTaWImlZIl",
        "outputId": "2a58a3d9-d205-4cc6-b9e9-8515dc527a93"
      },
      "execution_count": 101,
      "outputs": [
        {
          "output_type": "stream",
          "name": "stdout",
          "text": [
            "Test set: Average loss: 2.2993, Accuracy: 1199/10000 (11.99%)\n",
            "Quantized model test accuracy: 11.99%\n"
          ]
        }
      ]
    }
  ]
}